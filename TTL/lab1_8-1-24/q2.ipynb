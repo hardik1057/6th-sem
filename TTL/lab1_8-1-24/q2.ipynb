{
 "cells": [
  {
   "cell_type": "code",
   "execution_count": 1,
   "metadata": {},
   "outputs": [
    {
     "name": "stdout",
     "output_type": "stream",
     "text": [
      "Before swapping: num1 = 23.0, num2 = 76.0\n",
      "After swapping: num1 = 76.0, num2 = 23.0\n"
     ]
    }
   ],
   "source": [
    "#swap two variables\n",
    "num1 = float(input(\"Enter num1- \"))\n",
    "num2= float(input(\"Enter num2- \"))\n",
    "print(f\"Before swapping: num1 = {num1}, num2 = {num2}\")\n",
    "temp = num1\n",
    "num1 = num2\n",
    "num2 = temp\n",
    "print(f\"After swapping: num1 = {num1}, num2 = {num2}\")"
   ]
  }
 ],
 "metadata": {
  "kernelspec": {
   "display_name": "Python 3",
   "language": "python",
   "name": "python3"
  },
  "language_info": {
   "codemirror_mode": {
    "name": "ipython",
    "version": 3
   },
   "file_extension": ".py",
   "mimetype": "text/x-python",
   "name": "python",
   "nbconvert_exporter": "python",
   "pygments_lexer": "ipython3",
   "version": "3.12.1"
  }
 },
 "nbformat": 4,
 "nbformat_minor": 2
}
