{
 "cells": [
  {
   "cell_type": "code",
   "execution_count": 1,
   "metadata": {},
   "outputs": [
    {
     "name": "stdout",
     "output_type": "stream",
     "text": [
      "Addition-  30.0\n",
      "Addition-  161.0\n"
     ]
    }
   ],
   "source": [
    "#arithmatic operation like add, mul \n",
    "num1 = float(input(\"Enter num1- \"))\n",
    "num2= float(input(\"Enter num2- \"))\n",
    "num3=num1+num2\n",
    "num4=num1*num2\n",
    "print(f\"Addition-  {num3}\")\n",
    "print(f\"Addition-  {num4}\")"
   ]
  }
 ],
 "metadata": {
  "kernelspec": {
   "display_name": "Python 3",
   "language": "python",
   "name": "python3"
  },
  "language_info": {
   "codemirror_mode": {
    "name": "ipython",
    "version": 3
   },
   "file_extension": ".py",
   "mimetype": "text/x-python",
   "name": "python",
   "nbconvert_exporter": "python",
   "pygments_lexer": "ipython3",
   "version": "3.12.1"
  }
 },
 "nbformat": 4,
 "nbformat_minor": 2
}
