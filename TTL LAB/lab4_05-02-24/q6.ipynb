{
 "cells": [
  {
   "cell_type": "code",
   "execution_count": 1,
   "metadata": {},
   "outputs": [
    {
     "name": "stdout",
     "output_type": "stream",
     "text": [
      "('London', 'Paris', 'New York', 'Tokyo')\n"
     ]
    }
   ],
   "source": [
    "#create a list of cities, convert the list into tuple, add a new city to the tuple and print the modified tuple\n",
    "cities = [\"London\", \"Paris\", \"New York\"]\n",
    "cities_tuple = tuple(cities)\n",
    "cities_tuple += (\"Tokyo\",)\n",
    "print(cities_tuple)"
   ]
  }
 ],
 "metadata": {
  "kernelspec": {
   "display_name": "Python 3",
   "language": "python",
   "name": "python3"
  },
  "language_info": {
   "codemirror_mode": {
    "name": "ipython",
    "version": 3
   },
   "file_extension": ".py",
   "mimetype": "text/x-python",
   "name": "python",
   "nbconvert_exporter": "python",
   "pygments_lexer": "ipython3",
   "version": "3.12.1"
  }
 },
 "nbformat": 4,
 "nbformat_minor": 2
}
