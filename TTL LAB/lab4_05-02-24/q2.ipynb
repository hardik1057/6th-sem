{
 "cells": [
  {
   "cell_type": "code",
   "execution_count": 1,
   "metadata": {},
   "outputs": [
    {
     "name": "stdout",
     "output_type": "stream",
     "text": [
      "First element: 1\n",
      "Last element: 5\n",
      "Length of tuple: 5\n",
      "Sliced tuple: (3, 4)\n",
      "Concatenated tuple: (1, 2, 3, 4, 5, 6, 7, 8)\n",
      "Index of element 3: 2\n"
     ]
    }
   ],
   "source": [
    "# create a tuple to represent an immutable collection and try to access the elements and preforming basic operations  \n",
    "\n",
    "my_tuple = (1, 2, 3, 4, 5)\n",
    "print(\"First element:\", my_tuple[0])   \n",
    "print(\"Last element:\", my_tuple[-1])   \n",
    "print(\"Length of tuple:\", len(my_tuple)) \n",
    "print(\"Sliced tuple:\", my_tuple[2:4]) \n",
    "new_tuple = my_tuple + (6, 7, 8)\n",
    "print(\"Concatenated tuple:\", new_tuple)   \n",
    "index = my_tuple.index(3)\n",
    "print(\"Index of element 3:\", index)  "
   ]
  }
 ],
 "metadata": {
  "kernelspec": {
   "display_name": "Python 3",
   "language": "python",
   "name": "python3"
  },
  "language_info": {
   "codemirror_mode": {
    "name": "ipython",
    "version": 3
   },
   "file_extension": ".py",
   "mimetype": "text/x-python",
   "name": "python",
   "nbconvert_exporter": "python",
   "pygments_lexer": "ipython3",
   "version": "3.12.1"
  }
 },
 "nbformat": 4,
 "nbformat_minor": 2
}
