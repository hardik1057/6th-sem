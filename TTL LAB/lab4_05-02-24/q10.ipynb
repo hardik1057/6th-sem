{
 "cells": [
  {
   "cell_type": "code",
   "execution_count": 1,
   "metadata": {},
   "outputs": [
    {
     "name": "stdout",
     "output_type": "stream",
     "text": [
      "The original list is: [10, 20, 30, 40, 50]\n",
      "The list after sorting in descending order is: [50, 40, 30, 20, 10]\n"
     ]
    }
   ],
   "source": [
    "#sort the list in descending order\n",
    "my_list = [10, 20, 30, 40, 50]\n",
    "print(\"The original list is:\", my_list)\n",
    "my_list.sort(reverse=True)\n",
    "print(\"The list after sorting in descending order is:\", my_list)\n"
   ]
  }
 ],
 "metadata": {
  "kernelspec": {
   "display_name": "Python 3",
   "language": "python",
   "name": "python3"
  },
  "language_info": {
   "codemirror_mode": {
    "name": "ipython",
    "version": 3
   },
   "file_extension": ".py",
   "mimetype": "text/x-python",
   "name": "python",
   "nbconvert_exporter": "python",
   "pygments_lexer": "ipython3",
   "version": "3.12.1"
  }
 },
 "nbformat": 4,
 "nbformat_minor": 2
}
