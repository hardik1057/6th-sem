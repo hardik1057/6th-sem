{
 "cells": [
  {
   "cell_type": "code",
   "execution_count": null,
   "metadata": {},
   "outputs": [],
   "source": [
    "#create a list of numbers and perform various operations like adding element, removing element and annealing elements by the index  \n",
    "\n",
    "numbers = [1, 2, 3, 4, 5]\n",
    "print(f\"Initial list: {numbers}\")\n",
    "\n",
    "# Access an element by its index\n",
    "index_to_access = int(input(\"Enter an index to access: \"))\n",
    "if index_to_access < len(numbers):\n",
    "    print(f\"Element at index {index_to_access}: {numbers[index_to_access]}\")\n",
    "else:\n",
    "    print(f\"There is no element at index {index_to_access}.\")\n",
    "\n",
    "# Update an element by its index\n",
    "index_to_update = int(input(\"Enter an index to update: \"))\n",
    "if index_to_update < len(numbers):\n",
    "    new_value = int(input(\"Enter a new value: \"))\n",
    "    numbers[index_to_update] = new_value\n",
    "    print(f\"List after updating an element: {numbers}\")\n",
    "else:\n",
    "    print(f\"There is no element at index {index_to_update}.\")\n",
    "\n",
    "# Remove an element by its index\n",
    "index_to_remove = int(input(\"Enter an index to remove: \"))\n",
    "if index_to_remove < len(numbers):\n",
    "    del numbers[index_to_remove]\n",
    "    print(f\"List after removing an element: {numbers}\")\n",
    "else:\n",
    "    print(f\"There is no element at index {index_to_remove}.\")\n"
   ]
  }
 ],
 "metadata": {
  "language_info": {
   "name": "python"
  }
 },
 "nbformat": 4,
 "nbformat_minor": 2
}
