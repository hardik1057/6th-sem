{
 "cells": [
  {
   "cell_type": "code",
   "execution_count": null,
   "metadata": {},
   "outputs": [],
   "source": [
    "# develop a program to simulate a student enrollment system. create sets representing students enrolled in two courses, find and print \n",
    "#students who are enrolled in both courses, add new students to one of the courses, remove a student fom both course if they decide to drop out\n",
    "# create sets representing students enrolled in two courses\n",
    "course_A = {\"ABC\",\"DEF\",\"GHI\"}\n",
    "course_B = {\"JKL\",\"MNO\",\"PQR\"}\n",
    "course_input = input(\"Enter the name of the course you want to modify (A or B): \")\n",
    "if course_input == \"A\":\n",
    "  course = course_A\n",
    "elif course_input == \"B\":\n",
    "  course = course_B\n",
    "else:\n",
    "  print(\"Invalid input. Please enter A or B.\")\n",
    "  exit()\n",
    "\n",
    "operation = input(\"Enter the operation you want to perform (add, remove, or view): \")\n",
    "if operation == \"add\":\n",
    "  new_students = input(\"Enter the names of the new students separated by ',': \")\n",
    "  new_students = set(new_students.split(\",\"))\n",
    "  course.update(new_students)\n",
    "  \n",
    "elif operation == \"remove\":\n",
    "  drop_out = input(\"Enter the name of the student who wants to drop out: \")\n",
    "  if drop_out in course:\n",
    "    course.remove(drop_out)\n",
    "    print(\"Students enrolled in course\", course_input, \"after removing a drop out are:\", course)\n",
    "  else:\n",
    "    print(\"No such student found in course\", course_input)\n",
    "elif operation == \"view\":\n",
    "    courseinp=input(\"Enter the name of the course you want to modify (A or B):\")\n",
    "    if courseinp==\"A\":\n",
    "        print(course_A)\n",
    "    elif courseinp==\"B\":\n",
    "        print(course_B)\n",
    "else:\n",
    "  print(\"Invalid input. Please enter add, remove, or view.\")\n"
   ]
  }
 ],
 "metadata": {
  "language_info": {
   "name": "python"
  }
 },
 "nbformat": 4,
 "nbformat_minor": 2
}
