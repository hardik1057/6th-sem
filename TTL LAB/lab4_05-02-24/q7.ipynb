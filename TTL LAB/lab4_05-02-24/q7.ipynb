{
 "cells": [
  {
   "cell_type": "code",
   "execution_count": 1,
   "metadata": {},
   "outputs": [
    {
     "name": "stdout",
     "output_type": "stream",
     "text": [
      "The first set is: {'d', 'b', 'a', 'c'}\n",
      "The second set is: {'d', 'f', 'e', 'c'}\n",
      "The first set is not a subset of the second set.\n",
      "The second set is not a subset of the first set.\n",
      "The symmetric difference of the sets is: {'b', 'a', 'f', 'e'}\n",
      "The sets have some elements in common.\n"
     ]
    }
   ],
   "source": [
    "#develop a program to perform set operations and comparison. create two character, check if one set is subset of other, find and print the \n",
    "#symmetric difference of the sets, check if set has any elements in common\n",
    "# create two sets of characters\n",
    "set1 = {'a', 'b', 'c', 'd'}\n",
    "set2 = {'c', 'd', 'e', 'f'}\n",
    "print(\"The first set is:\", set1)\n",
    "print(\"The second set is:\", set2)\n",
    "if set1.issubset(set2):\n",
    "    print(\"The first set is a subset of the second set.\")\n",
    "else:\n",
    "    print(\"The first set is not a subset of the second set.\")\n",
    "if set2.issubset(set1):\n",
    "    print(\"The second set is a subset of the first set.\")\n",
    "else:\n",
    "    print(\"The second set is not a subset of the first set.\")\n",
    "sym_diff = set1.symmetric_difference(set2)\n",
    "print(\"The symmetric difference of the sets is:\", sym_diff)\n",
    "if set1.isdisjoint(set2):\n",
    "    print(\"The sets have no elements in common.\")\n",
    "else:\n",
    "    print(\"The sets have some elements in common.\")"
   ]
  }
 ],
 "metadata": {
  "kernelspec": {
   "display_name": "Python 3",
   "language": "python",
   "name": "python3"
  },
  "language_info": {
   "codemirror_mode": {
    "name": "ipython",
    "version": 3
   },
   "file_extension": ".py",
   "mimetype": "text/x-python",
   "name": "python",
   "nbconvert_exporter": "python",
   "pygments_lexer": "ipython3",
   "version": "3.12.1"
  }
 },
 "nbformat": 4,
 "nbformat_minor": 2
}
