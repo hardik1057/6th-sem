{
 "cells": [
  {
   "cell_type": "code",
   "execution_count": 1,
   "metadata": {},
   "outputs": [
    {
     "name": "stdout",
     "output_type": "stream",
     "text": [
      "1984\n",
      "One Hundred Years of Solitude\n",
      "Pride and Prejudice\n",
      "The Catcher in the Rye\n",
      "The Great Gatsby\n",
      "To Kill a Mockingbird\n"
     ]
    }
   ],
   "source": [
    "#create a dictonary where the keys are books title and values the corresponding aurthors, add a new book to the dictonary, update the author\n",
    "# of the existing book, display the book titles in alphabetical order \n",
    "books = {\n",
    "    \"To Kill a Mockingbird\": \"Harper Lee\",\n",
    "    \"1984\": \"George Orwell\",\n",
    "    \"The Great Gatsby\": \"F. Scott Fitzgerald\",\n",
    "    \"Pride and Prejudice\": \"Jane Austen\",\n",
    "    \"One Hundred Years of Solitude\": \"Gabriel García Márquez\"\n",
    "} \n",
    "books[\"The Catcher in the Rye\"] = \"J.D. Salinger\"\n",
    "books[\"1984\"] = \"Eric Arthur Blair\"\n",
    "for book in sorted(books.keys()):\n",
    "    print(book)"
   ]
  }
 ],
 "metadata": {
  "kernelspec": {
   "display_name": "Python 3",
   "language": "python",
   "name": "python3"
  },
  "language_info": {
   "codemirror_mode": {
    "name": "ipython",
    "version": 3
   },
   "file_extension": ".py",
   "mimetype": "text/x-python",
   "name": "python",
   "nbconvert_exporter": "python",
   "pygments_lexer": "ipython3",
   "version": "3.12.1"
  }
 },
 "nbformat": 4,
 "nbformat_minor": 2
}
