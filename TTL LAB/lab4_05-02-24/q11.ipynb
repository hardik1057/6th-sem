{
 "cells": [
  {
   "cell_type": "code",
   "execution_count": null,
   "metadata": {},
   "outputs": [],
   "source": [
    "#create a tuple with the name of the weekdays, allow the uder to enter a day of weekday. check if the entred day is weekend day and print a \n",
    "# corresponding message \n",
    "weekdays = (\"Monday\", \"Tuesday\", \"Wednesday\", \"Thursday\", \"Friday\", \"Saturday\", \"Sunday\")\n",
    "day = input(\"Enter a day of weekday: \")\n",
    "if day in weekdays:\n",
    "  if day == \"Saturday\" or day == \"Sunday\":\n",
    "    print(\"It is a weekend day.\")\n",
    "  else:\n",
    "    print(\"It is not a weekend day.\")\n",
    "else:\n",
    "  print(\"Invalid input. Please enter a valid day of weekday.\")"
   ]
  }
 ],
 "metadata": {
  "language_info": {
   "name": "python"
  }
 },
 "nbformat": 4,
 "nbformat_minor": 2
}
