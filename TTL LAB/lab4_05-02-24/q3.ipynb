{
 "cells": [
  {
   "cell_type": "code",
   "execution_count": 1,
   "metadata": {},
   "outputs": [
    {
     "name": "stdout",
     "output_type": "stream",
     "text": [
      "My set: {1, 2, 3, 4, 5}\n",
      "Other set: {4, 5, 6, 7, 8}\n",
      "Union: {1, 2, 3, 4, 5, 6, 7, 8}\n",
      "Intersection: {4, 5}\n",
      "Difference: {1, 2, 3}\n"
     ]
    }
   ],
   "source": [
    "# create a set to store the unique elements and perform set operations like union, intersection. difference\n",
    "my_set = {1, 2, 3, 4, 5}\n",
    "print(\"My set:\", my_set)\n",
    "other_set = {4, 5, 6, 7, 8}\n",
    "print(\"Other set:\", other_set)\n",
    "union_set = my_set | other_set\n",
    "print(\"Union:\", union_set)\n",
    "intersection_set = my_set & other_set\n",
    "print(\"Intersection:\", intersection_set)\n",
    "difference_set = my_set - other_set\n",
    "print(\"Difference:\", difference_set)\n"
   ]
  }
 ],
 "metadata": {
  "kernelspec": {
   "display_name": "Python 3",
   "language": "python",
   "name": "python3"
  },
  "language_info": {
   "codemirror_mode": {
    "name": "ipython",
    "version": 3
   },
   "file_extension": ".py",
   "mimetype": "text/x-python",
   "name": "python",
   "nbconvert_exporter": "python",
   "pygments_lexer": "ipython3",
   "version": "3.12.1"
  }
 },
 "nbformat": 4,
 "nbformat_minor": 2
}
