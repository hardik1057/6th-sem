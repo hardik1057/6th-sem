{
 "cells": [
  {
   "cell_type": "code",
   "execution_count": 1,
   "metadata": {},
   "outputs": [
    {
     "name": "stdout",
     "output_type": "stream",
     "text": [
      "My dictionary: {'name': 'Alice', 'age': 25, 'city': 'New York'}\n",
      "My dictionary after adding a new pair: {'name': 'Alice', 'age': 25, 'city': 'New York', 'country': 'USA'}\n",
      "My dictionary after updating a value: {'name': 'Alice', 'age': 26, 'city': 'New York', 'country': 'USA'}\n",
      "The value of the key 'name' is: Alice\n",
      "My dictionary after deleting a pair: {'name': 'Alice', 'age': 26, 'country': 'USA'}\n"
     ]
    }
   ],
   "source": [
    "#create a dictonary to represent key value pair and perform operations like adding, updating and accessing elements.\n",
    "# create a dictionary with some key-value pairs\n",
    "my_dict = {\"name\": \"Alice\", \"age\": 25, \"city\": \"New York\"}\n",
    "print(\"My dictionary:\", my_dict)\n",
    "my_dict[\"country\"] = \"USA\"\n",
    "print(\"My dictionary after adding a new pair:\", my_dict)\n",
    "my_dict[\"age\"] = 26\n",
    "print(\"My dictionary after updating a value:\", my_dict)\n",
    "value = my_dict[\"name\"]\n",
    "print(\"The value of the key 'name' is:\", value)\n",
    "del my_dict[\"city\"]\n",
    "print(\"My dictionary after deleting a pair:\", my_dict)\n"
   ]
  }
 ],
 "metadata": {
  "kernelspec": {
   "display_name": "Python 3",
   "language": "python",
   "name": "python3"
  },
  "language_info": {
   "codemirror_mode": {
    "name": "ipython",
    "version": 3
   },
   "file_extension": ".py",
   "mimetype": "text/x-python",
   "name": "python",
   "nbconvert_exporter": "python",
   "pygments_lexer": "ipython3",
   "version": "3.12.1"
  }
 },
 "nbformat": 4,
 "nbformat_minor": 2
}
