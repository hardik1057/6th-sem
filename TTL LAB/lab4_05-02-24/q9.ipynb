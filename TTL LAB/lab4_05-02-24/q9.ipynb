{
 "cells": [
  {
   "cell_type": "code",
   "execution_count": 1,
   "metadata": {},
   "outputs": [
    {
     "name": "stdout",
     "output_type": "stream",
     "text": [
      "The original list is: [10, 20, 30, 20, 10, 50, 60, 40, 80, 50, 40]\n",
      "The list after removing duplicates is: [10, 20, 30, 50, 60, 40, 80]\n"
     ]
    }
   ],
   "source": [
    "# create a list of intergers ans WAP to remove duplicate elements from the list \n",
    "\n",
    "list1 = [10, 20, 30, 20, 10, 50, 60, 40, 80, 50, 40]\n",
    "print(\"The original list is:\", list1)\n",
    "\n",
    "list2 = []\n",
    "for num in list1:\n",
    "  if num not in list2:\n",
    "    list2.append(num)\n",
    "\n",
    "print(\"The list after removing duplicates is:\", list2)\n"
   ]
  }
 ],
 "metadata": {
  "kernelspec": {
   "display_name": "Python 3",
   "language": "python",
   "name": "python3"
  },
  "language_info": {
   "codemirror_mode": {
    "name": "ipython",
    "version": 3
   },
   "file_extension": ".py",
   "mimetype": "text/x-python",
   "name": "python",
   "nbconvert_exporter": "python",
   "pygments_lexer": "ipython3",
   "version": "3.12.1"
  }
 },
 "nbformat": 4,
 "nbformat_minor": 2
}
