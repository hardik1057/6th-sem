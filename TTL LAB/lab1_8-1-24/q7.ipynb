{
 "cells": [
  {
   "cell_type": "code",
   "execution_count": null,
   "metadata": {},
   "outputs": [],
   "source": [
    "#add two numbers\n",
    "num1 = float(input(\"Enter num1- \"))\n",
    "num2= float(input(\"Enter num2- \"))\n",
    "num3=num1+num2\n",
    "print(f\"Addition-  {num3}\")"
   ]
  }
 ],
 "metadata": {
  "language_info": {
   "name": "python"
  }
 },
 "nbformat": 4,
 "nbformat_minor": 2
}
