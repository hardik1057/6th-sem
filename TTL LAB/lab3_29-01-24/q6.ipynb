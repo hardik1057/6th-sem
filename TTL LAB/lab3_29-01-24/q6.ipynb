{
 "cells": [
  {
   "cell_type": "code",
   "execution_count": 9,
   "metadata": {},
   "outputs": [
    {
     "ename": "TypeError",
     "evalue": "Library.add_book() missing 1 required positional argument: 'book'",
     "output_type": "error",
     "traceback": [
      "\u001b[1;31m---------------------------------------------------------------------------\u001b[0m",
      "\u001b[1;31mTypeError\u001b[0m                                 Traceback (most recent call last)",
      "Cell \u001b[1;32mIn[9], line 24\u001b[0m\n\u001b[0;32m     22\u001b[0m             book\u001b[38;5;241m.\u001b[39mdisplay_info()\n\u001b[0;32m     23\u001b[0m my_library \u001b[38;5;241m=\u001b[39m Library()\n\u001b[1;32m---> 24\u001b[0m \u001b[43mmy_library\u001b[49m\u001b[38;5;241;43m.\u001b[39;49m\u001b[43madd_book\u001b[49m\u001b[43m(\u001b[49m\u001b[43m)\u001b[49m\n\u001b[0;32m     25\u001b[0m \u001b[38;5;28mprint\u001b[39m(my_library)\n",
      "\u001b[1;31mTypeError\u001b[0m: Library.add_book() missing 1 required positional argument: 'book'"
     ]
    }
   ],
   "source": [
    "#create a python class named \"book\" with the following attributes- title (string), aurthor (string), published year (interger). now implement \n",
    "# a method display_info() in the book class that print out the information about the book in a formatted way. now create another class library\n",
    "# that can hold on another books the library class should have init function, display_book function, init(self), ass_book(self_book), book(self)\n",
    "class Book:\n",
    "    def __init__(self, title, author, publication_year):\n",
    "        self.title =input(\"enter the title: \")\n",
    "        self.author = input(\"enter the author: \")\n",
    "        self.publication_year = input(\"enter the publication year: \")\n",
    "\n",
    "    def display_info(self):\n",
    "        print(f\"Title: {self.title}, Author: {self.author}, Published Year: {self.publication_year}\")\n",
    "\n",
    "class Library:\n",
    "    def __init__(self):\n",
    "        self.books = []\n",
    "\n",
    "    def add_book(self, book):\n",
    "        self.books.append(book)\n",
    "\n",
    "    def display_books(self):\n",
    "        for book in self.books:\n",
    "            book.display_info()\n"
   ]
  }
 ],
 "metadata": {
  "kernelspec": {
   "display_name": "Python 3",
   "language": "python",
   "name": "python3"
  },
  "language_info": {
   "codemirror_mode": {
    "name": "ipython",
    "version": 3
   },
   "file_extension": ".py",
   "mimetype": "text/x-python",
   "name": "python",
   "nbconvert_exporter": "python",
   "pygments_lexer": "ipython3",
   "version": "3.12.1"
  }
 },
 "nbformat": 4,
 "nbformat_minor": 2
}
