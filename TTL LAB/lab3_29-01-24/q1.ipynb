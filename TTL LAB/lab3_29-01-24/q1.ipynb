{
 "cells": [
  {
   "cell_type": "code",
   "execution_count": 1,
   "metadata": {},
   "outputs": [
    {
     "name": "stdout",
     "output_type": "stream",
     "text": [
      "The list with unique elements is: ['2', '6', '4', '5', '7', '1', '3']\n"
     ]
    }
   ],
   "source": [
    "#create a function that takes a list as an input and return a new list containing only the unique elements, allow the user to input a list,  \n",
    "# call the function and display the result\n",
    "def unique_elements(input_list):\n",
    "    unique_list = list(set(input_list))\n",
    "    return unique_list\n",
    "\n",
    "user_list = input(\"Enter a list of elements separated by space: \").split()\n",
    "result = unique_elements(user_list)\n",
    "print(\"The list with unique elements is:\", result)\n"
   ]
  }
 ],
 "metadata": {
  "kernelspec": {
   "display_name": "Python 3",
   "language": "python",
   "name": "python3"
  },
  "language_info": {
   "codemirror_mode": {
    "name": "ipython",
    "version": 3
   },
   "file_extension": ".py",
   "mimetype": "text/x-python",
   "name": "python",
   "nbconvert_exporter": "python",
   "pygments_lexer": "ipython3",
   "version": "3.12.1"
  }
 },
 "nbformat": 4,
 "nbformat_minor": 2
}
