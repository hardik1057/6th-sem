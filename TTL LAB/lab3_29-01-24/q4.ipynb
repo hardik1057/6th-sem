{
 "cells": [
  {
   "cell_type": "code",
   "execution_count": 1,
   "metadata": {},
   "outputs": [
    {
     "name": "stdout",
     "output_type": "stream",
     "text": [
      "The list with squared elements is: [1, 4, 9, 16, 25, 36, 49, 64, 81]\n"
     ]
    }
   ],
   "source": [
    "#use the map function along with the lambda fucntion and provide me a list having all the elements squared \n",
    "user_list = input(\"Enter a list of elements separated by space: \").split()\n",
    "user_list = [int(i) for i in user_list]\n",
    "squared_list = list(map(lambda x: x**2, user_list))\n",
    "print(\"The list with squared elements is:\", squared_list)\n"
   ]
  }
 ],
 "metadata": {
  "kernelspec": {
   "display_name": "Python 3",
   "language": "python",
   "name": "python3"
  },
  "language_info": {
   "codemirror_mode": {
    "name": "ipython",
    "version": 3
   },
   "file_extension": ".py",
   "mimetype": "text/x-python",
   "name": "python",
   "nbconvert_exporter": "python",
   "pygments_lexer": "ipython3",
   "version": "3.12.1"
  }
 },
 "nbformat": 4,
 "nbformat_minor": 2
}
