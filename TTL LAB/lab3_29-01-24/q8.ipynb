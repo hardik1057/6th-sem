{
 "cells": [
  {
   "cell_type": "code",
   "execution_count": 1,
   "metadata": {},
   "outputs": [
    {
     "name": "stdout",
     "output_type": "stream",
     "text": [
      "The average grade is: 125.42857142857143\n"
     ]
    }
   ],
   "source": [
    "#wap to calculate the average grade on imnput grades. implement a function that takes a list of grades as input grades. implement a function that \n",
    "# takes a list of grades as input grades adn return average. allow the user to input grades, call the function and display the average. \n",
    "def calculate_average(grades):\n",
    "    if len(grades) == 0:\n",
    "        return 0\n",
    "    return sum(grades) / len(grades)\n",
    "\n",
    "grades = []\n",
    "\n",
    "while True:\n",
    "    grade = input(\"Enter a grade (or 'done' to finish): \")\n",
    "    if grade.lower() == 'done':\n",
    "        break\n",
    "    else:\n",
    "        grades.append(float(grade))\n",
    "\n",
    "average = calculate_average(grades)\n",
    "print(\"The average grade is:\", average)\n"
   ]
  }
 ],
 "metadata": {
  "kernelspec": {
   "display_name": "Python 3",
   "language": "python",
   "name": "python3"
  },
  "language_info": {
   "codemirror_mode": {
    "name": "ipython",
    "version": 3
   },
   "file_extension": ".py",
   "mimetype": "text/x-python",
   "name": "python",
   "nbconvert_exporter": "python",
   "pygments_lexer": "ipython3",
   "version": "3.12.1"
  }
 },
 "nbformat": 4,
 "nbformat_minor": 2
}
