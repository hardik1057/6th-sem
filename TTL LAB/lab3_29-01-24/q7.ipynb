{
 "cells": [
  {
   "cell_type": "code",
   "execution_count": 4,
   "metadata": {},
   "outputs": [
    {
     "name": "stdout",
     "output_type": "stream",
     "text": [
      "The sum of the numbers is: 10.0\n",
      "The average of the numbers is: 2.5\n",
      "The maximum number is: 4.0\n"
     ]
    }
   ],
   "source": [
    "#write a function to find out the sum, average and the maximum element in the list of numbers. allow the users to input a list, call these \n",
    "#functions and print the results \n",
    "def calculate_sum(numbers):\n",
    "    return sum(numbers)\n",
    "\n",
    "def calculate_average(numbers):\n",
    "    return sum(numbers) / len(numbers)\n",
    "\n",
    "def find_maximum(numbers):\n",
    "    return max(numbers)\n",
    "\n",
    "numbers = []\n",
    "\n",
    "while True:\n",
    "    number = input(\"Enter a number (or 'done' to finish): \")\n",
    "    if number.lower() == 'done':\n",
    "        break\n",
    "    else:\n",
    "        numbers.append(float(number))\n",
    "\n",
    "total = calculate_sum(numbers)\n",
    "average = calculate_average(numbers)\n",
    "maximum = find_maximum(numbers)\n",
    "\n",
    "print(\"The sum of the numbers is:\", total)\n",
    "print(\"The average of the numbers is:\", average)\n",
    "print(\"The maximum number is:\", maximum)\n"
   ]
  }
 ],
 "metadata": {
  "kernelspec": {
   "display_name": "Python 3",
   "language": "python",
   "name": "python3"
  },
  "language_info": {
   "codemirror_mode": {
    "name": "ipython",
    "version": 3
   },
   "file_extension": ".py",
   "mimetype": "text/x-python",
   "name": "python",
   "nbconvert_exporter": "python",
   "pygments_lexer": "ipython3",
   "version": "3.12.1"
  }
 },
 "nbformat": 4,
 "nbformat_minor": 2
}
