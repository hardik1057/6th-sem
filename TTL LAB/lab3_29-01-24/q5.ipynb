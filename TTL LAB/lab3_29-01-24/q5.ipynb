{
 "cells": [
  {
   "cell_type": "code",
   "execution_count": 1,
   "metadata": {},
   "outputs": [
    {
     "name": "stdout",
     "output_type": "stream",
     "text": [
      "The list sorted in descending order is: [12312, 212, 113, 13, 12, 12, 12, 1, 1]\n"
     ]
    }
   ],
   "source": [
    "# use the sort function along with lambda and provide me alist having all the elements in the descending order \n",
    "user_list = input(\"Enter a list of elements separated by space: \").split()\n",
    "user_list = [int(i) for i in user_list]\n",
    "user_list.sort(key=lambda x: -x)\n",
    "print(\"The list sorted in descending order is:\", user_list)\n",
    "\n"
   ]
  }
 ],
 "metadata": {
  "kernelspec": {
   "display_name": "Python 3",
   "language": "python",
   "name": "python3"
  },
  "language_info": {
   "codemirror_mode": {
    "name": "ipython",
    "version": 3
   },
   "file_extension": ".py",
   "mimetype": "text/x-python",
   "name": "python",
   "nbconvert_exporter": "python",
   "pygments_lexer": "ipython3",
   "version": "3.12.1"
  }
 },
 "nbformat": 4,
 "nbformat_minor": 2
}
