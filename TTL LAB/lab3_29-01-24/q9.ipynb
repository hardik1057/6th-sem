{
 "cells": [
  {
   "cell_type": "code",
   "execution_count": null,
   "metadata": {},
   "outputs": [],
   "source": [
    "# wap a simple rock paper scissor game where the user can play against a computer (use simplpe concepts like input output,conditionals\n",
    "# and opps, functions and basic data manupulation\n",
    "import random\n",
    "\n",
    "def get_computer_choice():\n",
    "    choices = ['rock', 'paper', 'scissors']\n",
    "    return random.choice(choices)\n",
    "\n",
    "def get_user_choice():\n",
    "    user_choice = input(\"Enter your choice (rock/paper/scissors): \")\n",
    "    while user_choice not in ['rock', 'paper', 'scissors']:\n",
    "        print(\"Invalid choice. Please try again.\")\n",
    "        user_choice = input(\"Enter your choice (rock/paper/scissors): \")\n",
    "    return user_choice\n",
    "\n",
    "def determine_winner(user_choice, computer_choice):\n",
    "    if user_choice == computer_choice:\n",
    "        return \"It's a tie!\"\n",
    "    if (user_choice == 'rock' and computer_choice == 'scissors') or \\\n",
    "       (user_choice == 'scissors' and computer_choice == 'paper') or \\\n",
    "       (user_choice == 'paper' and computer_choice == 'rock'):\n",
    "        return \"Congratulations, you win!\"\n",
    "    else:\n",
    "        return \"Sorry, the computer wins.\"\n",
    "\n",
    "def play_game():\n",
    "    user_choice = get_user_choice()\n",
    "    computer_choice = get_computer_choice()\n",
    "    print(f\"You chose {user_choice}, computer chose {computer_choice}.\")\n",
    "    print(determine_winner(user_choice, computer_choice))\n",
    "\n",
    "play_game()\n"
   ]
  }
 ],
 "metadata": {
  "language_info": {
   "name": "python"
  }
 },
 "nbformat": 4,
 "nbformat_minor": 2
}
