{
 "cells": [
  {
   "cell_type": "code",
   "execution_count": 1,
   "metadata": {},
   "outputs": [
    {
     "name": "stdout",
     "output_type": "stream",
     "text": [
      "The list with odd elements is: [1, 3, 5, 9, 3, 1]\n"
     ]
    }
   ],
   "source": [
    "#take a list of elements and thn use the ilter function to find out the idd elements from the list \n",
    "user_list = input(\"Enter a list of elements separated by space: \").split()\n",
    "user_list = [int(i) for i in user_list]\n",
    "odd_list = list(filter(lambda x: x % 2 != 0, user_list))\n",
    "print(\"The list with odd elements is:\", odd_list)\n"
   ]
  }
 ],
 "metadata": {
  "kernelspec": {
   "display_name": "Python 3",
   "language": "python",
   "name": "python3"
  },
  "language_info": {
   "codemirror_mode": {
    "name": "ipython",
    "version": 3
   },
   "file_extension": ".py",
   "mimetype": "text/x-python",
   "name": "python",
   "nbconvert_exporter": "python",
   "pygments_lexer": "ipython3",
   "version": "3.12.1"
  }
 },
 "nbformat": 4,
 "nbformat_minor": 2
}
