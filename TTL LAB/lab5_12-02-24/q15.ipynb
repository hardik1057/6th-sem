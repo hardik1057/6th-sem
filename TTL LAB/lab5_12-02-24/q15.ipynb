{
 "cells": [
  {
   "cell_type": "code",
   "execution_count": null,
   "metadata": {},
   "outputs": [],
   "source": [
    "#wap a user defined fucntion to create two matrices of dimensions r1*c1 and r2*c2 and add, subtract, multiply "
   ]
  }
 ],
 "metadata": {
  "language_info": {
   "name": "python"
  }
 },
 "nbformat": 4,
 "nbformat_minor": 2
}
