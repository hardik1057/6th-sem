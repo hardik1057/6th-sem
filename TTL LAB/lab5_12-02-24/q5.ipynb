{
 "cells": [
  {
   "cell_type": "code",
   "execution_count": 1,
   "metadata": {},
   "outputs": [
    {
     "name": "stdout",
     "output_type": "stream",
     "text": [
      "Original 1D array:\n",
      "[1 2 3 4 5 6]\n",
      "\n",
      "Reshaped 2D array (shape 2x3):\n",
      "[[1 2 3]\n",
      " [4 5 6]]\n",
      "\n",
      "Transposed array:\n",
      "[[1 4]\n",
      " [2 5]\n",
      " [3 6]]\n"
     ]
    }
   ],
   "source": [
    "#create a 1D array and reshape the array with shape (2,3). transpose the array \n",
    "import numpy as np\n",
    "one_d_array = np.array([1, 2, 3, 4, 5, 6])\n",
    "two_d_array = one_d_array.reshape(2, 3)\n",
    "transposed_array = np.transpose(two_d_array)\n",
    "print(\"Original 1D array:\")\n",
    "print(one_d_array)\n",
    "print(\"\\nReshaped 2D array (shape 2x3):\")\n",
    "print(two_d_array)\n",
    "print(\"\\nTransposed array:\")\n",
    "print(transposed_array)"
   ]
  }
 ],
 "metadata": {
  "kernelspec": {
   "display_name": "Python 3",
   "language": "python",
   "name": "python3"
  },
  "language_info": {
   "codemirror_mode": {
    "name": "ipython",
    "version": 3
   },
   "file_extension": ".py",
   "mimetype": "text/x-python",
   "name": "python",
   "nbconvert_exporter": "python",
   "pygments_lexer": "ipython3",
   "version": "3.12.1"
  }
 },
 "nbformat": 4,
 "nbformat_minor": 2
}
