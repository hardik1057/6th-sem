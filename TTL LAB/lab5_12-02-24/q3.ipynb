{
 "cells": [
  {
   "cell_type": "code",
   "execution_count": 1,
   "metadata": {},
   "outputs": [
    {
     "name": "stdout",
     "output_type": "stream",
     "text": [
      "Element at index 0: 10\n",
      "Element at index 2: 30\n",
      "Element at index 4: 50\n",
      "Element at index 6: 70\n"
     ]
    }
   ],
   "source": [
    "# create an array and print elements at even indexes \n",
    "my_array = [10, 20, 30, 40, 50, 60, 70]\n",
    "for i in range(0, len(my_array), 2):\n",
    "    print(f\"Element at index {i}: {my_array[i]}\")"
   ]
  }
 ],
 "metadata": {
  "kernelspec": {
   "display_name": "Python 3",
   "language": "python",
   "name": "python3"
  },
  "language_info": {
   "codemirror_mode": {
    "name": "ipython",
    "version": 3
   },
   "file_extension": ".py",
   "mimetype": "text/x-python",
   "name": "python",
   "nbconvert_exporter": "python",
   "pygments_lexer": "ipython3",
   "version": "3.12.1"
  }
 },
 "nbformat": 4,
 "nbformat_minor": 2
}
