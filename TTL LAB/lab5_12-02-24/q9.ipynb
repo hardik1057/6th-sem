{
 "cells": [
  {
   "cell_type": "code",
   "execution_count": 1,
   "metadata": {},
   "outputs": [
    {
     "name": "stdout",
     "output_type": "stream",
     "text": [
      "Solution: x = 2.0, y = 4.0\n"
     ]
    }
   ],
   "source": [
    "#solve a system of linear equation using numpy functions \n",
    "import numpy as np\n",
    "A = np.array([[4, 3], [-5, 9]]) #Coeff\n",
    "B = np.array([20, 26]) #Constant\n",
    "X = np.linalg.solve(A, B)\n",
    "x, y = X\n",
    "print(f\"Solution: x = {x}, y = {y}\")\n"
   ]
  }
 ],
 "metadata": {
  "kernelspec": {
   "display_name": "Python 3",
   "language": "python",
   "name": "python3"
  },
  "language_info": {
   "codemirror_mode": {
    "name": "ipython",
    "version": 3
   },
   "file_extension": ".py",
   "mimetype": "text/x-python",
   "name": "python",
   "nbconvert_exporter": "python",
   "pygments_lexer": "ipython3",
   "version": "3.12.1"
  }
 },
 "nbformat": 4,
 "nbformat_minor": 2
}
