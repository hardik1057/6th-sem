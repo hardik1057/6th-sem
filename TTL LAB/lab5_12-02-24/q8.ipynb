{
 "cells": [
  {
   "cell_type": "code",
   "execution_count": 1,
   "metadata": {},
   "outputs": [
    {
     "name": "stdout",
     "output_type": "stream",
     "text": [
      "Square root of each element: [1.41421356 2.         2.44948974 2.82842712 3.16227766]\n",
      "Exponential value of each element: [7.38905610e+00 5.45981500e+01 4.03428793e+02 2.98095799e+03\n",
      " 2.20264658e+04]\n"
     ]
    }
   ],
   "source": [
    "#create an array of numbers and apply custom mathematical operations like square root, exponential \n",
    "import numpy as np\n",
    "my_array = np.array([2, 4, 6, 8, 10])\n",
    "square_root_array = np.sqrt(my_array)\n",
    "print(\"Square root of each element:\", square_root_array)\n",
    "exponential_array = np.exp(my_array)\n",
    "print(\"Exponential value of each element:\", exponential_array)\n"
   ]
  }
 ],
 "metadata": {
  "kernelspec": {
   "display_name": "Python 3",
   "language": "python",
   "name": "python3"
  },
  "language_info": {
   "codemirror_mode": {
    "name": "ipython",
    "version": 3
   },
   "file_extension": ".py",
   "mimetype": "text/x-python",
   "name": "python",
   "nbconvert_exporter": "python",
   "pygments_lexer": "ipython3",
   "version": "3.12.1"
  }
 },
 "nbformat": 4,
 "nbformat_minor": 2
}
