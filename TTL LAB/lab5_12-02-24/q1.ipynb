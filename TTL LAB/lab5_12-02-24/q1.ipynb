{
 "cells": [
  {
   "cell_type": "code",
   "execution_count": 1,
   "metadata": {},
   "outputs": [
    {
     "name": "stdout",
     "output_type": "stream",
     "text": [
      "1D Array: [1 2 3 4 5]\n",
      "2D Array (filled with zeros):\n",
      " [[0. 0. 0.]\n",
      " [0. 0. 0.]\n",
      " [0. 0. 0.]]\n"
     ]
    }
   ],
   "source": [
    "#create a 1D array with elements from 1 to 5. also create a 2D array with shape (3,3) filled with zeros \n",
    "import numpy as np\n",
    "one_d_array = np.array([1, 2, 3, 4, 5])\n",
    "print(\"1D Array:\", one_d_array)\n",
    "two_d_array = np.zeros((3, 3))\n",
    "print(\"2D Array (filled with zeros):\\n\", two_d_array)\n"
   ]
  }
 ],
 "metadata": {
  "kernelspec": {
   "display_name": "Python 3",
   "language": "python",
   "name": "python3"
  },
  "language_info": {
   "codemirror_mode": {
    "name": "ipython",
    "version": 3
   },
   "file_extension": ".py",
   "mimetype": "text/x-python",
   "name": "python",
   "nbconvert_exporter": "python",
   "pygments_lexer": "ipython3",
   "version": "3.12.1"
  }
 },
 "nbformat": 4,
 "nbformat_minor": 2
}
