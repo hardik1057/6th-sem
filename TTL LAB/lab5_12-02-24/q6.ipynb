{
 "cells": [
  {
   "cell_type": "code",
   "execution_count": 1,
   "metadata": {},
   "outputs": [
    {
     "name": "stdout",
     "output_type": "stream",
     "text": [
      "Random integers: [3 8 6 3 6 5 9 9 1 3]\n",
      "Rounded integers: [ 9  3  3  5  4  8  9 11  8  3]\n"
     ]
    }
   ],
   "source": [
    "#generate a random array of intergers between 1 to 10. create an array of random floats and round them off to the nearest interger.\n",
    "import numpy as np\n",
    "random_integers = np.random.randint(1, 11, size=10)\n",
    "print(\"Random integers:\", random_integers)\n",
    "random_floats = np.random.uniform(1, 11, size=10)\n",
    "rounded_integers = np.rint(random_floats).astype(int)\n",
    "print(\"Rounded integers:\", rounded_integers)"
   ]
  }
 ],
 "metadata": {
  "kernelspec": {
   "display_name": "Python 3",
   "language": "python",
   "name": "python3"
  },
  "language_info": {
   "codemirror_mode": {
    "name": "ipython",
    "version": 3
   },
   "file_extension": ".py",
   "mimetype": "text/x-python",
   "name": "python",
   "nbconvert_exporter": "python",
   "pygments_lexer": "ipython3",
   "version": "3.12.1"
  }
 },
 "nbformat": 4,
 "nbformat_minor": 2
}
