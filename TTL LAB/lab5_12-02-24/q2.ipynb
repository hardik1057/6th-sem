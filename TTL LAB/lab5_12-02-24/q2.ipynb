{
 "cells": [
  {
   "cell_type": "code",
   "execution_count": 1,
   "metadata": {},
   "outputs": [
    {
     "name": "stdout",
     "output_type": "stream",
     "text": [
      "Element-wise addition result: [11, 22, 33, 44, 55]\n",
      "Element-wise subtraction result: [-9, -18, -27, -36, -45]\n"
     ]
    }
   ],
   "source": [
    "#take 2 array and perform element wise addition and subtraction \n",
    "array_a = [1, 2, 3, 4, 5]\n",
    "array_b = [10, 20, 30, 40, 50]\n",
    "result_addition = [a + b for a, b in zip(array_a, array_b)]\n",
    "print(\"Element-wise addition result:\", result_addition)\n",
    "result_subtraction = [a - b for a, b in zip(array_a, array_b)]\n",
    "print(\"Element-wise subtraction result:\", result_subtraction)\n"
   ]
  }
 ],
 "metadata": {
  "kernelspec": {
   "display_name": "Python 3",
   "language": "python",
   "name": "python3"
  },
  "language_info": {
   "codemirror_mode": {
    "name": "ipython",
    "version": 3
   },
   "file_extension": ".py",
   "mimetype": "text/x-python",
   "name": "python",
   "nbconvert_exporter": "python",
   "pygments_lexer": "ipython3",
   "version": "3.12.1"
  }
 },
 "nbformat": 4,
 "nbformat_minor": 2
}
