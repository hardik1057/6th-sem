{
 "cells": [
  {
   "cell_type": "code",
   "execution_count": 1,
   "metadata": {},
   "outputs": [
    {
     "name": "stdout",
     "output_type": "stream",
     "text": [
      "Element 3 found at index 2.\n"
     ]
    }
   ],
   "source": [
    "#implement the binary search algorithm to find the index of the target element in a sroted list  \n",
    "def binary_search(sorted_list, target):\n",
    "    low, high = 0, len(sorted_list) - 1\n",
    "\n",
    "    while low <= high:\n",
    "        mid = (low + high) // 2\n",
    "        mid_value = sorted_list[mid]\n",
    "\n",
    "        if mid_value == target:\n",
    "            return mid \n",
    "        elif mid_value < target:\n",
    "            low = mid + 1 \n",
    "        else:\n",
    "            high = mid - 1\n",
    "\n",
    "    return -1  \n",
    "def search_in_sorted_list():\n",
    "    unsorted_list = list(map(int, input(\"Enter a list of space-separated integers: \").split()))\n",
    "    unsorted_list.sort()  \n",
    "\n",
    "    target_element = int(input(\"Enter the target element to search: \"))\n",
    "\n",
    "    index = binary_search(unsorted_list, target_element)\n",
    "\n",
    "    if index != -1:\n",
    "        print(f\"Element {target_element} found at index {index}.\")\n",
    "    else:\n",
    "        print(f\"Element {target_element} not found in the list.\")\n",
    "\n",
    "search_in_sorted_list()\n"
   ]
  }
 ],
 "metadata": {
  "kernelspec": {
   "display_name": "Python 3",
   "language": "python",
   "name": "python3"
  },
  "language_info": {
   "codemirror_mode": {
    "name": "ipython",
    "version": 3
   },
   "file_extension": ".py",
   "mimetype": "text/x-python",
   "name": "python",
   "nbconvert_exporter": "python",
   "pygments_lexer": "ipython3",
   "version": "3.12.1"
  }
 },
 "nbformat": 4,
 "nbformat_minor": 2
}
