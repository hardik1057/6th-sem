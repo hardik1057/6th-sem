{
 "cells": [
  {
   "cell_type": "code",
   "execution_count": 1,
   "metadata": {},
   "outputs": [
    {
     "name": "stdout",
     "output_type": "stream",
     "text": [
      "Element 341 found at index 8.\n"
     ]
    }
   ],
   "source": [
    "#implement a linear search to find out index of a target element in the list \n",
    "def linear_search(arr, target):\n",
    "    for i in range(len(arr)):\n",
    "        if arr[i] == target:\n",
    "            return i  # Element found, return its index\n",
    "    return -1  # Element not found\n",
    "\n",
    "# Function to take a list and target element as user input\n",
    "def search_in_list():\n",
    "    my_list = list(map(int, input(\"Enter a list of space-separated integers: \").split()))\n",
    "    target_element = int(input(\"Enter the target element to search: \"))\n",
    "\n",
    "    index = linear_search(my_list, target_element)\n",
    "\n",
    "    if index != -1:\n",
    "        print(f\"Element {target_element} found at index {index}.\")\n",
    "    else:\n",
    "        print(f\"Element {target_element} not found in the list.\")\n",
    "\n",
    "# Example usage:\n",
    "search_in_list()\n"
   ]
  }
 ],
 "metadata": {
  "kernelspec": {
   "display_name": "Python 3",
   "language": "python",
   "name": "python3"
  },
  "language_info": {
   "codemirror_mode": {
    "name": "ipython",
    "version": 3
   },
   "file_extension": ".py",
   "mimetype": "text/x-python",
   "name": "python",
   "nbconvert_exporter": "python",
   "pygments_lexer": "ipython3",
   "version": "3.12.1"
  }
 },
 "nbformat": 4,
 "nbformat_minor": 2
}
