{
 "cells": [
  {
   "cell_type": "code",
   "execution_count": 3,
   "metadata": {},
   "outputs": [
    {
     "name": "stdout",
     "output_type": "stream",
     "text": [
      "The missing number is: 5\n"
     ]
    }
   ],
   "source": [
    "#given a set of intergers from 1 to N with one number missing. find out the missing number.\n",
    "N = int(input(\"Enter N: \"))\n",
    "sums = 0\n",
    "for i in range(1, N + 1):\n",
    "    sums += i\n",
    "array = []\n",
    "sum2 = 0\n",
    "for i in range(1, N):\n",
    "    array.append(int(input(\"Enter element: \")))\n",
    "    sum2 += array[i - 1]\n",
    "missing = sums - sum2\n",
    "print(\"The missing number is:\", missing)\n"
   ]
  }
 ],
 "metadata": {
  "kernelspec": {
   "display_name": "Python 3",
   "language": "python",
   "name": "python3"
  },
  "language_info": {
   "codemirror_mode": {
    "name": "ipython",
    "version": 3
   },
   "file_extension": ".py",
   "mimetype": "text/x-python",
   "name": "python",
   "nbconvert_exporter": "python",
   "pygments_lexer": "ipython3",
   "version": "3.12.1"
  }
 },
 "nbformat": 4,
 "nbformat_minor": 2
}
