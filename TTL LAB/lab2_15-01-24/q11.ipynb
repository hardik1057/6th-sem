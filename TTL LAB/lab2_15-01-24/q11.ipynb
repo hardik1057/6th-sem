{
 "cells": [
  {
   "cell_type": "code",
   "execution_count": 1,
   "metadata": {},
   "outputs": [
    {
     "name": "stdout",
     "output_type": "stream",
     "text": [
      "second last element of string is- l\n"
     ]
    }
   ],
   "source": [
    "#find second last element in a string   \n",
    "strr=str(input(\"Enter string- \"))\n",
    "length= len(strr)\n",
    "if length >=2:\n",
    "    print(f\"second last element of string is- {strr[length-2]}\")\n",
    "else :\n",
    "    print(\"No valid element\")"
   ]
  }
 ],
 "metadata": {
  "kernelspec": {
   "display_name": "Python 3",
   "language": "python",
   "name": "python3"
  },
  "language_info": {
   "codemirror_mode": {
    "name": "ipython",
    "version": 3
   },
   "file_extension": ".py",
   "mimetype": "text/x-python",
   "name": "python",
   "nbconvert_exporter": "python",
   "pygments_lexer": "ipython3",
   "version": "3.12.1"
  }
 },
 "nbformat": 4,
 "nbformat_minor": 2
}
