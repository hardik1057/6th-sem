{
 "cells": [
  {
   "cell_type": "code",
   "execution_count": 1,
   "metadata": {},
   "outputs": [
    {
     "name": "stdout",
     "output_type": "stream",
     "text": [
      "Common elements: ['4', '3', '5']\n"
     ]
    }
   ],
   "source": [
    "#print common elements in 2 lists \n",
    "def find_common_elements(list1, list2):\n",
    "    common_elements = set(list1) & set(list2)\n",
    "    return list(common_elements)\n",
    "\n",
    "def main():\n",
    "    try:\n",
    "        list1 = input(\"Enter elements of the first list separated by space: \").split()\n",
    "        list2 = input(\"Enter elements of the second list separated by space: \").split()\n",
    "\n",
    "        common_elements = find_common_elements(list1, list2)\n",
    "\n",
    "        if common_elements:\n",
    "            print(f\"Common elements: {common_elements}\")\n",
    "        else:\n",
    "            print(\"There are no common elements.\")\n",
    "\n",
    "    except ValueError:\n",
    "        print(\"Invalid input. Please enter valid elements.\")\n",
    "\n",
    "if __name__ == \"__main__\":\n",
    "    main()\n"
   ]
  }
 ],
 "metadata": {
  "kernelspec": {
   "display_name": "Python 3",
   "language": "python",
   "name": "python3"
  },
  "language_info": {
   "codemirror_mode": {
    "name": "ipython",
    "version": 3
   },
   "file_extension": ".py",
   "mimetype": "text/x-python",
   "name": "python",
   "nbconvert_exporter": "python",
   "pygments_lexer": "ipython3",
   "version": "3.12.1"
  }
 },
 "nbformat": 4,
 "nbformat_minor": 2
}
