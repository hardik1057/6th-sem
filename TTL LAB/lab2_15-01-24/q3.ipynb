{
 "cells": [
  {
   "cell_type": "code",
   "execution_count": 1,
   "metadata": {},
   "outputs": [
    {
     "name": "stdout",
     "output_type": "stream",
     "text": [
      "Number of words in the string: 6\n"
     ]
    }
   ],
   "source": [
    "def count_words(input_string):\n",
    "    words = input_string.split()\n",
    "    return len(words)\n",
    "\n",
    "def main():\n",
    "    input_string = input(\"Enter a string: \")\n",
    "    word_count = count_words(input_string)\n",
    "    print(f\"Original string:{input_string}\" )\n",
    "    print(f\"Number of words in the string: {word_count}\")\n",
    "\n",
    "if __name__ == \"__main__\":\n",
    "    main()\n"
   ]
  }
 ],
 "metadata": {
  "kernelspec": {
   "display_name": "Python 3",
   "language": "python",
   "name": "python3"
  },
  "language_info": {
   "codemirror_mode": {
    "name": "ipython",
    "version": 3
   },
   "file_extension": ".py",
   "mimetype": "text/x-python",
   "name": "python",
   "nbconvert_exporter": "python",
   "pygments_lexer": "ipython3",
   "version": "3.12.1"
  }
 },
 "nbformat": 4,
 "nbformat_minor": 2
}
