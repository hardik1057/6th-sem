{
 "cells": [
  {
   "cell_type": "code",
   "execution_count": 1,
   "metadata": {},
   "outputs": [
    {
     "name": "stdout",
     "output_type": "stream",
     "text": [
      "Too low\n",
      "Too low\n",
      "Correct\n"
     ]
    }
   ],
   "source": [
    "import random\n",
    "num = random.randint(1, 10)\n",
    "chances = 5\n",
    "while(chances):\n",
    "    n = int(input(\"Enter a number between 1 to 10\"))\n",
    "    if(n > num):\n",
    "        print(\"Too High\")\n",
    "    elif(n < num):\n",
    "        print(\"Too low\")\n",
    "    else:\n",
    "        print(\"Correct\")\n",
    "        break\n",
    "    chances -= 1\n",
    "if(chances == 0):\n",
    "    print(\"You lose\")"
   ]
  }
 ],
 "metadata": {
  "kernelspec": {
   "display_name": "Python 3",
   "language": "python",
   "name": "python3"
  },
  "language_info": {
   "codemirror_mode": {
    "name": "ipython",
    "version": 3
   },
   "file_extension": ".py",
   "mimetype": "text/x-python",
   "name": "python",
   "nbconvert_exporter": "python",
   "pygments_lexer": "ipython3",
   "version": "3.12.1"
  }
 },
 "nbformat": 4,
 "nbformat_minor": 2
}
