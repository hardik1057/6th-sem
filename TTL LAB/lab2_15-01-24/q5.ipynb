{
 "cells": [
  {
   "cell_type": "code",
   "execution_count": null,
   "metadata": {},
   "outputs": [],
   "source": [
    "#read a file and give the occurence of each word\n",
    "text = open(\"test.txt\")\n",
    "d = dict()\n",
    "for line in text:\n",
    "    line = line.strip()\n",
    "    line = line.lower()\n",
    "    words = line.split(\" \")\n",
    "    for word in words:\n",
    "        if word in d:\n",
    "            d[word] = d[word] + 1\n",
    "        else:\n",
    "            d[word] = 1\n",
    "\n",
    "for key in list(d.keys()): \n",
    "    print(key, \":\", d[key])"
   ]
  }
 ],
 "metadata": {
  "language_info": {
   "name": "python"
  }
 },
 "nbformat": 4,
 "nbformat_minor": 2
}
