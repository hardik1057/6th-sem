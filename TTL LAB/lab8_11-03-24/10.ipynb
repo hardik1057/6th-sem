{
 "cells": [
  {
   "cell_type": "code",
   "execution_count": 1,
   "metadata": {},
   "outputs": [
    {
     "name": "stdout",
     "output_type": "stream",
     "text": [
      "The array is: [0.81722784 0.14270903 0.04374479 0.20289697 0.93163267 0.24476776\n",
      " 0.67745721 0.70845158 0.5089744  0.47399723]\n",
      "The mean of the array is: 0.47518594783703705\n"
     ]
    }
   ],
   "source": [
    "#calculate the mean of the array.\n",
    "import numpy as np\n",
    "array = np.random.rand(10)\n",
    "mean = np.mean(array)\n",
    "print(f\"The array is: {array}\")\n",
    "print(f\"The mean of the array is: {mean}\")\n"
   ]
  },
  {
   "cell_type": "code",
   "execution_count": null,
   "metadata": {},
   "outputs": [],
   "source": []
  }
 ],
 "metadata": {
  "kernelspec": {
   "display_name": "Python 3",
   "language": "python",
   "name": "python3"
  },
  "language_info": {
   "codemirror_mode": {
    "name": "ipython",
    "version": 3
   },
   "file_extension": ".py",
   "mimetype": "text/x-python",
   "name": "python",
   "nbconvert_exporter": "python",
   "pygments_lexer": "ipython3",
   "version": "3.12.1"
  }
 },
 "nbformat": 4,
 "nbformat_minor": 2
}
